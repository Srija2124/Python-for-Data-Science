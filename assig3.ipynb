{
  "nbformat": 4,
  "nbformat_minor": 0,
  "metadata": {
    "colab": {
      "provenance": []
    },
    "kernelspec": {
      "name": "python3",
      "display_name": "Python 3"
    },
    "language_info": {
      "name": "python"
    }
  },
  "cells": [
    {
      "cell_type": "code",
      "execution_count": 1,
      "metadata": {
        "colab": {
          "base_uri": "https://localhost:8080/"
        },
        "id": "zwzbtIRZtQ12",
        "outputId": "cb57cee5-6480-4039-a668-4ae6c83d53da"
      },
      "outputs": [
        {
          "output_type": "stream",
          "name": "stdout",
          "text": [
            "h\n"
          ]
        }
      ],
      "source": [
        "'''1 . Print the input text without vowels using List comprehensions\n",
        "\n",
        "input = 'hai'\n",
        "Expected output = h '''\n",
        "\n",
        "print(\"\".join([i for i in 'hai' if i not in 'aeiou']))"
      ]
    },
    {
      "cell_type": "code",
      "source": [
        "'''2.Print only vowels from the text using List comprehensions\n",
        "input = data\n",
        "Expected output = aa '''\n",
        "\n",
        "print(\"\".join([i for i in \"data\" if i in \"aeiou\"]))"
      ],
      "metadata": {
        "colab": {
          "base_uri": "https://localhost:8080/"
        },
        "id": "ZeBPAfc-tigF",
        "outputId": "e3bac297-1a79-49b2-a51c-2fc85a6b8137"
      },
      "execution_count": 2,
      "outputs": [
        {
          "output_type": "stream",
          "name": "stdout",
          "text": [
            "aa\n"
          ]
        }
      ]
    },
    {
      "cell_type": "code",
      "source": [
        "'''3. print each value from the list with its index\n",
        "input = [10,11,50,34]\n",
        "Expected output = [100 , 111 , 502 , 343] '''\n",
        "\n",
        "def value(s):\n",
        "  for i in s:\n",
        "    print(str(i)+str(s.index(i)))\n",
        "\n",
        "s = [10,11,50,34]\n",
        "value(s)\n",
        "\n"
      ],
      "metadata": {
        "colab": {
          "base_uri": "https://localhost:8080/"
        },
        "id": "gsnAf7oXtm-T",
        "outputId": "e286a4d9-497f-48b2-dccc-042f4483d800"
      },
      "execution_count": 3,
      "outputs": [
        {
          "output_type": "stream",
          "name": "stdout",
          "text": [
            "100\n",
            "111\n",
            "502\n",
            "343\n"
          ]
        }
      ]
    },
    {
      "cell_type": "code",
      "source": [
        "#4.This is a Python Program to print all integers that aren’t divisible by either 2 or 3 and lies between 1 and 50.\n",
        "\n",
        "def num_not_divisible_by_2_or_3():\n",
        "  for i in range(1,51):\n",
        "    if i % 2 != 0 and i % 3 != 0:\n",
        "      print(i,end=\" \")\n",
        "\n",
        "num_not_divisible_by_2_or_3()\n"
      ],
      "metadata": {
        "colab": {
          "base_uri": "https://localhost:8080/"
        },
        "id": "_kDzMkEVttFg",
        "outputId": "a0c9b948-7924-4c00-f8c4-2626108ae552"
      },
      "execution_count": 4,
      "outputs": [
        {
          "output_type": "stream",
          "name": "stdout",
          "text": [
            "1 5 7 11 13 17 19 23 25 29 31 35 37 41 43 47 49 "
          ]
        }
      ]
    },
    {
      "cell_type": "code",
      "source": [
        "#5.The program takes in an integer and prints the smallest divisor of the integer.\n",
        "\n",
        "n = 10\n",
        "div = []\n",
        "for i in range(1,n+1):\n",
        "  if n % i == 0:\n",
        "    div.append(i)\n",
        "print(\"Divisors of n :\", div)\n",
        "print(\"Smallest divisor of n :\", min(div))"
      ],
      "metadata": {
        "colab": {
          "base_uri": "https://localhost:8080/"
        },
        "id": "_EwXfLy8ttP4",
        "outputId": "29e5d1cf-af9b-4ea9-bfe9-70c65007288a"
      },
      "execution_count": 5,
      "outputs": [
        {
          "output_type": "stream",
          "name": "stdout",
          "text": [
            "Divisors of n : [1, 2, 5, 10]\n",
            "Smallest divisor of n : 1\n"
          ]
        }
      ]
    },
    {
      "cell_type": "code",
      "source": [
        "#7 . Write a Python program that takes input from the user and displays that input back in upper and lower cases.\n",
        "\n",
        "s = \"THE QUICK BROWN FOX\"\n",
        "print(s.lower())"
      ],
      "metadata": {
        "colab": {
          "base_uri": "https://localhost:8080/"
        },
        "id": "L6k189DVt64x",
        "outputId": "4b689002-17e7-4add-bb92-8b86326f561a"
      },
      "execution_count": 6,
      "outputs": [
        {
          "output_type": "stream",
          "name": "stdout",
          "text": [
            "the quick brown fox\n"
          ]
        }
      ]
    },
    {
      "cell_type": "code",
      "source": [
        "'''8 . Write a Python program to remove spaces from a given string\n",
        "\n",
        "input = united states\n",
        "output = unitedstates   '''\n",
        "\n",
        "s = \"united states\"\n",
        "a = s.replace(\" \" , \"\")\n",
        "print(a)\n"
      ],
      "metadata": {
        "colab": {
          "base_uri": "https://localhost:8080/"
        },
        "id": "pSWmjNbpt7ED",
        "outputId": "c11af6a8-1c81-4e75-f9b0-e886d3f3f7e2"
      },
      "execution_count": 7,
      "outputs": [
        {
          "output_type": "stream",
          "name": "stdout",
          "text": [
            "unitedstates\n"
          ]
        }
      ]
    },
    {
      "cell_type": "code",
      "source": [
        "# 9 . Write a Python program to capitalize first and last letters of each word of a given string\n",
        "\n",
        "s = \"python programming\"\n",
        "res = \"\"\n",
        "for i in s.split():\n",
        "    res += i[0].upper() + i[1:-1] + i[-1].upper() + \" \"\n",
        "print(res)"
      ],
      "metadata": {
        "colab": {
          "base_uri": "https://localhost:8080/"
        },
        "id": "kGUa3C40ttiX",
        "outputId": "e2cb1a20-8347-4951-c8b8-0bac30d2fa2c"
      },
      "execution_count": 8,
      "outputs": [
        {
          "output_type": "stream",
          "name": "stdout",
          "text": [
            "PythoN ProgramminG \n"
          ]
        }
      ]
    },
    {
      "cell_type": "code",
      "source": [
        "# 10 . write a python program to find length of a string but should not use len keyword.\n",
        "\n",
        "s = \"Data Science\"\n",
        "l = 0\n",
        "for i in s:\n",
        "  l = l + 1\n",
        "print(\"length of s : \",l)\n"
      ],
      "metadata": {
        "colab": {
          "base_uri": "https://localhost:8080/"
        },
        "id": "WWLE0NwVuR0k",
        "outputId": "55901d3c-4690-408c-83a2-48212566ebd2"
      },
      "execution_count": 9,
      "outputs": [
        {
          "output_type": "stream",
          "name": "stdout",
          "text": [
            "length of s :  12\n"
          ]
        }
      ]
    }
  ]
}